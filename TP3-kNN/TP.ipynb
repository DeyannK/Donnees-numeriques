{
 "cells": [
  {
   "cell_type": "markdown",
   "metadata": {},
   "source": [
    "# Polytech SI3 - Données numériques\n",
    "Diane Lingrand\n",
    "\n",
    "Diane.Lingrand@univ-cotedazur.fr\n",
    "\n",
    "2022-2023\n",
    "\n",
    "# Cours 3 - kNN"
   ]
  },
  {
   "cell_type": "code",
   "execution_count": 5,
   "metadata": {
    "ExecuteTime": {
     "end_time": "2023-02-23T09:51:14.858056Z",
     "start_time": "2023-02-23T09:51:14.849865Z"
    }
   },
   "outputs": [],
   "source": [
    "#chargement des librairies\n",
    "import numpy as np\n",
    "import matplotlib.pyplot as plt\n",
    "import pickle"
   ]
  },
  {
   "cell_type": "markdown",
   "metadata": {},
   "source": [
    "## kNN in dimension 2"
   ]
  },
  {
   "cell_type": "markdown",
   "metadata": {
    "ExecuteTime": {
     "end_time": "2023-02-23T15:14:35.551283Z",
     "start_time": "2023-02-23T15:14:35.548596Z"
    }
   },
   "source": [
    "### simple synthetic data for debuging"
   ]
  },
  {
   "cell_type": "markdown",
   "metadata": {},
   "source": [
    "We will start with few data (2d points) arranged in a regular grid and two classes: 0 and 1."
   ]
  },
  {
   "cell_type": "code",
   "execution_count": 96,
   "metadata": {
    "ExecuteTime": {
     "end_time": "2023-02-23T20:59:45.850601Z",
     "start_time": "2023-02-23T20:59:45.642198Z"
    }
   },
   "outputs": [
    {
     "data": {
      "text/plain": [
       "<matplotlib.collections.PathCollection at 0x2756dc4d3d0>"
      ]
     },
     "execution_count": 96,
     "metadata": {},
     "output_type": "execute_result"
    },
    {
     "data": {
      "image/png": "[encoded data removed]",
      "text/plain": [
       "<Figure size 640x480 with 1 Axes>"
      ]
     },
     "metadata": {},
     "output_type": "display_data"
    }
   ],
   "source": [
    "nbClasses = 2\n",
    "# the 2d points\n",
    "Xtrain =np.mgrid[0:4.1:1, 0:3.1:1].reshape(2,-1).T\n",
    "# the classes\n",
    "yTrain = [0,0,0,0,0,1,1,1,1,1,1,1,1,1,1,1,1,1,1,1]\n",
    "# the vector of colors for drawing purpose\n",
    "colors = np.array([\"green\",\"yellow\", \"black\"])\n",
    "# let draw the points using colored circles with black edges\n",
    "plt.title(\"Training dataset\")\n",
    "plt.scatter(Xtrain[:, 0], Xtrain[:, 1], marker=\"o\", c=colors[yTrain], s=25, edgecolor=\"k\")"
   ]
  },
  {
   "cell_type": "markdown",
   "metadata": {},
   "source": [
    "Set a variable 'kNN' to the number of neighbors you would like to consider (start with 5). A new point will be denoted by 'newX'."
   ]
  },
  {
   "cell_type": "code",
   "execution_count": 97,
   "metadata": {},
   "outputs": [],
   "source": [
    "newX = [0.5,1]\n",
    "nKNN = 5"
   ]
  },
  {
   "cell_type": "markdown",
   "metadata": {},
   "source": [
    "**Question 1:** Compute all Euclidean distances between this new point and all points in the training dataset. You will need [numpy.sum](https://numpy.org/doc/stable/reference/generated/numpy.sum.html) and [numpy.sqrt](https://numpy.org/doc/stable/reference/generated/numpy.sqrt.html) functions."
   ]
  },
  {
   "cell_type": "code",
   "execution_count": 98,
   "metadata": {},
   "outputs": [
    {
     "name": "stdout",
     "output_type": "stream",
     "text": [
      "[1.118033988749895, 0.5, 1.118033988749895, 2.0615528128088303, 1.118033988749895, 0.5, 1.118033988749895, 2.0615528128088303, 1.8027756377319946, 1.5, 1.8027756377319946, 2.5, 2.692582403567252, 2.5, 2.692582403567252, 3.2015621187164243, 3.640054944640259, 3.5, 3.640054944640259, 4.031128874149275]\n"
     ]
    }
   ],
   "source": [
    "#list of all distances\n",
    "# your work here\n",
    "listDistance =[]\n",
    "for i in Xtrain:\n",
    "    d = np.sqrt(np.sum((newX - i)**2))\n",
    "    listDistance.append(d)\n",
    "\n",
    "print(listDistance)"
   ]
  },
  {
   "cell_type": "markdown",
   "metadata": {},
   "source": [
    "**Question 2:** Sort the distances and build an array of indices of training points using [numpy.argsort](https://numpy.org/doc/stable/reference/generated/numpy.argsort.html)"
   ]
  },
  {
   "cell_type": "markdown",
   "metadata": {},
   "source": [
    "        Argsort va faire une liste d'indice qui correspond à l'ordre croissant."
   ]
  },
  {
   "cell_type": "code",
   "execution_count": 99,
   "metadata": {},
   "outputs": [],
   "source": [
    "listIndice = np.argsort(listDistance)\n",
    "#Enlever commentaire pour voir ce que ça fait\n",
    "#for i in listIndice:\n",
    "#   print(listDistance[i])"
   ]
  },
  {
   "cell_type": "markdown",
   "metadata": {},
   "source": [
    "**Question 3:** Take the indices of 'nKNN' smallest distances. Build an array 'Xn' of the training points at these indices and 'yn' for the corresponding classes."
   ]
  },
  {
   "cell_type": "code",
   "execution_count": 100,
   "metadata": {},
   "outputs": [
    {
     "name": "stdout",
     "output_type": "stream",
     "text": [
      "[array([0., 1.]), array([1., 1.]), array([0., 0.]), array([0., 2.]), array([1., 2.])] [0, 1, 0, 0, 1]\n"
     ]
    }
   ],
   "source": [
    "# nKNN smallest distances indices\n",
    "nei = listIndice[:5]\n",
    "# nKNN closest data\n",
    "Xn = []\n",
    "yn = []\n",
    "for i in nei:\n",
    "    Xn.append(Xtrain[i])\n",
    "    yn.append(yTrain[i])\n",
    "print(Xn,yn)"
   ]
  },
  {
   "cell_type": "markdown",
   "metadata": {},
   "source": [
    "**Question 4:** Using 'yn' compute the majority vote. Don't consider ambiguity now. [numpy.unique](https://numpy.org/doc/stable/reference/generated/numpy.unique.html) and [numpy.argmax](https://numpy.org/doc/stable/reference/generated/numpy.argmax.html) will be useful."
   ]
  },
  {
   "cell_type": "code",
   "execution_count": 101,
   "metadata": {},
   "outputs": [
    {
     "name": "stdout",
     "output_type": "stream",
     "text": [
      "classe =  0\n"
     ]
    }
   ],
   "source": [
    "# majority vote for the class\n",
    "# your work here\n",
    "classe, classeCount = np.unique(yn, return_counts = True)\n",
    "print(\"classe = \", classe[np.argmax(classeCount)])"
   ]
  },
  {
   "cell_type": "markdown",
   "metadata": {},
   "source": [
    "**Question 4bis:** The same but highlight the ambiguity by assigning the classe 'nbClasses' "
   ]
  },
  {
   "cell_type": "code",
   "execution_count": 102,
   "metadata": {},
   "outputs": [
    {
     "name": "stdout",
     "output_type": "stream",
     "text": [
      "classe =  0\n"
     ]
    }
   ],
   "source": [
    "# majority vote for the class\n",
    "#your work here\n",
    "\n",
    "classe, classeCount = np.unique(yn, return_counts = True)\n",
    "if len(classeCount) > 1:\n",
    "    if classeCount[0] == classeCount[1]: #Pour éviter les cas où il y a autant déléments de deux classes différentes\n",
    "        classe = nbClasses\n",
    "    else : \n",
    "        print(\"classe = \", classe[np.argmax(classeCount)])\n",
    "else:\n",
    "    print(\"classe = \", classe[np.argmax(classeCount)])"
   ]
  },
  {
   "cell_type": "markdown",
   "metadata": {},
   "source": [
    "**Question 5:** Plot the training dataset as before. In addition, plot the neighbors point using size 100 instead of 25. Plot the new point using '.' marker, in red. Play with the parameter k and the position of this new point.\n",
    "    "
   ]
  },
  {
   "cell_type": "code",
   "execution_count": 103,
   "metadata": {
    "ExecuteTime": {
     "end_time": "2023-02-23T14:28:03.857223Z",
     "start_time": "2023-02-23T14:28:03.640745Z"
    },
    "scrolled": true
   },
   "outputs": [
    {
     "data": {
      "text/plain": [
       "<matplotlib.collections.PathCollection at 0x2756e13dd10>"
      ]
     },
     "execution_count": 103,
     "metadata": {},
     "output_type": "execute_result"
    },
    {
     "data": {
      "image/png": "[encoded data removed]",
      "text/plain": [
       "<Figure size 640x480 with 1 Axes>"
      ]
     },
     "metadata": {},
     "output_type": "display_data"
    }
   ],
   "source": [
    "thetitle = str(nKNN)+\"-NN neighbors for new red point\"\n",
    "plt.title(thetitle)\n",
    "\n",
    "# your work here\n",
    "plt.scatter(Xtrain[:, 0], Xtrain[:, 1], marker=\"o\", c=colors[yTrain], s=25, edgecolor=\"k\")\n",
    "Xn = np.array(Xn)\n",
    "plt.scatter(Xn[:, 0], Xn[:, 1], marker=\"o\", c=colors[yn], s=100, edgecolor=\"k\")\n",
    "plt.scatter(newX[0], newX[1], marker=\".\", c=\"red\")"
   ]
  },
  {
   "cell_type": "markdown",
   "metadata": {},
   "source": [
    "**Question 6:** Put everything in the next function and return the class."
   ]
  },
  {
   "cell_type": "code",
   "execution_count": 104,
   "metadata": {
    "ExecuteTime": {
     "end_time": "2023-02-23T21:00:41.546596Z",
     "start_time": "2023-02-23T21:00:41.541613Z"
    }
   },
   "outputs": [],
   "source": [
    "def voteKnn(xtrain, ytrain, nKnn, newData):\n",
    "    \n",
    "    listDistance =[]\n",
    "    for i in xtrain:\n",
    "        d = np.sqrt(np.sum((newData - i)**2))\n",
    "        listDistance.append(d)\n",
    "        \n",
    "    listIndice = np.argsort(listDistance)\n",
    "\n",
    "    nei = listIndice[:nKnn]\n",
    "    Xn = []\n",
    "    yn = []\n",
    "    for i in nei:\n",
    "        Xn.append(xtrain[i])\n",
    "        yn.append(ytrain[i])\n",
    "    \n",
    "    classe, classeCount = np.unique(yn, return_counts = True)\n",
    "    if len(classeCount) > 1:\n",
    "        if classeCount[0] == classeCount[1]: #Pour éviter les cas où il y a autant déléments de deux classes différentes\n",
    "            classe = nbClasses\n",
    "            return classe\n",
    "        else : \n",
    "            return classe[np.argmax(classeCount)]\n",
    "    else:\n",
    "        return classe[0]\n"
   ]
  },
  {
   "cell_type": "markdown",
   "metadata": {},
   "source": [
    "**Question 6bis:** Test this function on the previous new point."
   ]
  },
  {
   "cell_type": "code",
   "execution_count": 105,
   "metadata": {
    "ExecuteTime": {
     "end_time": "2023-02-23T14:28:34.268899Z",
     "start_time": "2023-02-23T14:28:34.265098Z"
    }
   },
   "outputs": [
    {
     "name": "stdout",
     "output_type": "stream",
     "text": [
      "Classe =  0\n"
     ]
    }
   ],
   "source": [
    "# your work here\n",
    "print(\"Classe = \",voteKnn(np.mgrid[0:4.1:1, 0:3.1:1].reshape(2,-1).T,[0,0,0,0,0,1,1,1,1,1,1,1,1,1,1,1,1,1,1,1],5,[0.5,1]))"
   ]
  },
  {
   "cell_type": "markdown",
   "metadata": {},
   "source": [
    "**Question 7:** Compute the class of all the points on a higher resolution grid and plot the result (new points will be plotted with a marker '.'). Do you agree with the results?"
   ]
  },
  {
   "cell_type": "code",
   "execution_count": 117,
   "metadata": {
    "ExecuteTime": {
     "end_time": "2023-02-23T21:00:50.366626Z",
     "start_time": "2023-02-23T21:00:50.064010Z"
    },
    "scrolled": false
   },
   "outputs": [
    {
     "name": "stdout",
     "output_type": "stream",
     "text": [
      "(378, 2)\n"
     ]
    },
    {
     "data": {
      "text/plain": [
       "<matplotlib.collections.PathCollection at 0x27572bda5d0>"
      ]
     },
     "execution_count": 117,
     "metadata": {},
     "output_type": "execute_result"
    },
    {
     "data": {
      "image/png": "[encoded data removed]",
      "text/plain": [
       "<Figure size 640x480 with 1 Axes>"
      ]
     },
     "metadata": {},
     "output_type": "display_data"
    }
   ],
   "source": [
    "xTest=np.mgrid[0:4.2:0.2, 0:3.6:0.2].reshape(2,-1).T\n",
    "print(xTest.shape)\n",
    "\n",
    "for i in range(xTest.shape[0]):\n",
    "    plt.scatter(xTest[i][0], xTest[i][1], marker=\".\", c=colors[voteKnn(Xtrain, yTrain, 5, xTest[i])])\n",
    "\n",
    "thetitle = str(nKNN)+'-NN'\n",
    "plt.title(thetitle)\n",
    "plt.scatter(Xtrain[:, 0], Xtrain[:, 1], marker=\"o\", c=colors[yTrain], s=50, edgecolor=\"k\")\n",
    "\n",
    "# your work here"
   ]
  },
  {
   "cell_type": "markdown",
   "metadata": {
    "heading_collapsed": true
   },
   "source": [
    "### more complex synthetic data"
   ]
  },
  {
   "cell_type": "markdown",
   "metadata": {
    "hidden": true
   },
   "source": [
    "In this part, you will load another dataset. You first need to download this file: http://www.i3s.unice.fr/~lingrand/si3/datasetRandom.pickle and then run the next cell."
   ]
  },
  {
   "cell_type": "code",
   "execution_count": 43,
   "metadata": {
    "ExecuteTime": {
     "end_time": "2023-02-23T09:51:20.695385Z",
     "start_time": "2023-02-23T09:51:20.687960Z"
    },
    "hidden": true
   },
   "outputs": [],
   "source": [
    "with open('datasetRandom.pickle', 'rb') as input:\n",
    "    Xd, yd = pickle.load(input)\n"
   ]
  },
  {
   "cell_type": "markdown",
   "metadata": {
    "hidden": true
   },
   "source": [
    "**Question 8:** Plot the dataset."
   ]
  },
  {
   "cell_type": "code",
   "execution_count": 227,
   "metadata": {
    "ExecuteTime": {
     "end_time": "2023-02-23T14:55:05.108330Z",
     "start_time": "2023-02-23T14:55:04.925511Z"
    },
    "hidden": true
   },
   "outputs": [
    {
     "data": {
      "image/png": "[encoded data removed]",
      "text/plain": [
       "<Figure size 432x288 with 1 Axes>"
      ]
     },
     "metadata": {
      "needs_background": "light"
     },
     "output_type": "display_data"
    }
   ],
   "source": [
    "# your work here"
   ]
  },
  {
   "cell_type": "code",
   "execution_count": 216,
   "metadata": {
    "ExecuteTime": {
     "end_time": "2023-02-23T14:47:18.145336Z",
     "start_time": "2023-02-23T14:47:18.140001Z"
    },
    "hidden": true
   },
   "outputs": [],
   "source": [
    "# use the first 60% for the training and the last 40% for the test\n",
    "Xtrain = Xd[:60]\n",
    "yTrain = yd[:60]\n",
    "Xtest = Xd[60:]\n",
    "yTest = yd[60:]"
   ]
  },
  {
   "cell_type": "markdown",
   "metadata": {
    "hidden": true
   },
   "source": [
    "**Question 9:** Compute the label of the test set from the values of the training set. Plot the training set using round markers with black edge and plot the testing set without the black edge and using the predicted colors. If true class (yTest) and the predicted class do not match, add a red edge."
   ]
  },
  {
   "cell_type": "code",
   "execution_count": 228,
   "metadata": {
    "ExecuteTime": {
     "end_time": "2023-02-23T14:58:33.459916Z",
     "start_time": "2023-02-23T14:58:33.258656Z"
    },
    "hidden": true,
    "scrolled": true
   },
   "outputs": [
    {
     "data": {
      "image/png": "[encoded data removed]",
      "text/plain": [
       "<Figure size 432x288 with 1 Axes>"
      ]
     },
     "metadata": {
      "needs_background": "light"
     },
     "output_type": "display_data"
    }
   ],
   "source": [
    "# your work here"
   ]
  },
  {
   "cell_type": "markdown",
   "metadata": {
    "hidden": true
   },
   "source": [
    "**Question 10:**: Could you build a numerical metric for the classification evaluation?"
   ]
  },
  {
   "cell_type": "code",
   "execution_count": null,
   "metadata": {
    "hidden": true
   },
   "outputs": [],
   "source": [
    "# your work"
   ]
  },
  {
   "cell_type": "markdown",
   "metadata": {
    "heading_collapsed": true
   },
   "source": [
    "## multi-class kNN (dimension 2)"
   ]
  },
  {
   "cell_type": "markdown",
   "metadata": {
    "hidden": true
   },
   "source": [
    "**Question 11:** Same questions using more than 2 classes. Be careful of the tables of colors."
   ]
  },
  {
   "cell_type": "code",
   "execution_count": null,
   "metadata": {
    "hidden": true
   },
   "outputs": [],
   "source": [
    "# your work"
   ]
  },
  {
   "cell_type": "markdown",
   "metadata": {
    "heading_collapsed": true
   },
   "source": [
    "## multi-class kNN in any dimension (>2)"
   ]
  },
  {
   "cell_type": "markdown",
   "metadata": {
    "hidden": true
   },
   "source": [
    "The difficulty with this part is that you can no long plot the data ..."
   ]
  },
  {
   "cell_type": "markdown",
   "metadata": {
    "hidden": true
   },
   "source": [
    "**Question 12:** Same questions (except plottings) using more than 2 dimensions."
   ]
  },
  {
   "cell_type": "code",
   "execution_count": null,
   "metadata": {
    "hidden": true
   },
   "outputs": [],
   "source": [
    "# your work"
   ]
  },
  {
   "cell_type": "markdown",
   "metadata": {
    "ExecuteTime": {
     "end_time": "2023-02-23T21:11:17.616693Z",
     "start_time": "2023-02-23T21:11:17.614868Z"
    },
    "heading_collapsed": true
   },
   "source": [
    "## kdTree"
   ]
  },
  {
   "cell_type": "markdown",
   "metadata": {
    "ExecuteTime": {
     "end_time": "2023-02-23T21:12:03.661849Z",
     "start_time": "2023-02-23T21:12:03.658267Z"
    },
    "hidden": true
   },
   "source": [
    "If you reach this part, you are skilled enough to also implement the kd-tree! Start with 2d data."
   ]
  },
  {
   "cell_type": "code",
   "execution_count": null,
   "metadata": {
    "hidden": true
   },
   "outputs": [],
   "source": []
  }
 ],
 "metadata": {
  "hide_input": false,
  "kernelspec": {
   "display_name": "Python 3",
   "language": "python",
   "name": "python3"
  },
  "language_info": {
   "codemirror_mode": {
    "name": "ipython",
    "version": 3
   },
   "file_extension": ".py",
   "mimetype": "text/x-python",
   "name": "python",
   "nbconvert_exporter": "python",
   "pygments_lexer": "ipython3",
   "version": "3.11.9"
  },
  "latex_envs": {
   "LaTeX_envs_menu_present": true,
   "autoclose": false,
   "autocomplete": true,
   "bibliofile": "biblio.bib",
   "cite_by": "apalike",
   "current_citInitial": 1,
   "eqLabelWithNumbers": true,
   "eqNumInitial": 1,
   "hotkeys": {
    "equation": "Ctrl-E",
    "itemize": "Ctrl-I"
   },
   "labels_anchors": false,
   "latex_user_defs": false,
   "report_style_numbering": false,
   "user_envs_cfg": false
  },
  "varInspector": {
   "cols": {
    "lenName": 16,
    "lenType": 16,
    "lenVar": 40
   },
   "kernels_config": {
    "python": {
     "delete_cmd_postfix": "",
     "delete_cmd_prefix": "del ",
     "library": "var_list.py",
     "varRefreshCmd": "print(var_dic_list())"
    },
    "r": {
     "delete_cmd_postfix": ") ",
     "delete_cmd_prefix": "rm(",
     "library": "var_list.r",
     "varRefreshCmd": "cat(var_dic_list()) "
    }
   },
   "types_to_exclude": [
    "module",
    "function",
    "builtin_function_or_method",
    "instance",
    "_Feature"
   ],
   "window_display": false
  }
 },
 "nbformat": 4,
 "nbformat_minor": 4
}
